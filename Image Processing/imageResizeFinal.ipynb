{
 "cells": [
  {
   "cell_type": "code",
   "execution_count": 2,
   "id": "8199be3c",
   "metadata": {
    "scrolled": true
   },
   "outputs": [
    {
     "name": "stdout",
     "output_type": "stream",
     "text": [
      "asdfsf.png\n",
      "D:/Downloads/colorful-social-media-post-template\\asdfsf.png\n",
      "FASHION_GLASS_LOOK_INSTAGRAM_TEMPLATE.jpg\n",
      "FASHION_GLASS_LOOK_INSTAGRAM_TEMPLATE.png\n",
      "D:/Downloads/colorful-social-media-post-template\\FASHION_GLASS_LOOK_INSTAGRAM_TEMPLATE.png\n",
      "FASHION_GLASS_LOOK_INSTAGRAM_TEMPLATE.psd\n",
      "lamu.png\n",
      "D:/Downloads/colorful-social-media-post-template\\lamu.png\n"
     ]
    }
   ],
   "source": [
    "from PIL import Image\n",
    "import os\n",
    "import glob\n",
    "import cv2\n",
    "\n",
    "\n",
    "directory = r'D:/Downloads/colorful-social-media-post-template'\n",
    "directory1 = r'E:/Project/imggg/'\n",
    "\n",
    "\n",
    "c = 1\n",
    "for filename in os.listdir(directory):\n",
    "    print(filename)\n",
    "    if filename.endswith(\".png\"):\n",
    "        fname = directory + '/' + filename\n",
    "        im = Image.open(fname)\n",
    "        name = directory1 + 'image' + str(c) + '.jpg'\n",
    "        rgb_im = im.convert('RGB')\n",
    "        rgb_im.save(name)\n",
    "        c += 1\n",
    "        print(os.path.join(directory, filename))\n",
    "        continue\n",
    "    else:\n",
    "        continue\n"
   ]
  },
  {
   "cell_type": "code",
   "execution_count": 5,
   "id": "0c5af5a6",
   "metadata": {},
   "outputs": [],
   "source": [
    "from PIL import Image\n",
    "import os\n",
    "import glob\n",
    "import cv2\n",
    "path = 'E:/Project/jpgToPNG/resized'\n",
    "if not os.path.exists(path):\n",
    "    os.makedirs(path)\n",
    "\n",
    "\n",
    "for filename in glob.glob('E:/Project/jpgToPNG/*.png'):\n",
    "    img = Image.open(filename).resize((64,64))\n",
    "    \n",
    "    img.save('{}{}{}'.format(path,'/',os.path.split(filename)[1]))\n",
    "\n",
    "\n"
   ]
  },
  {
   "cell_type": "code",
   "execution_count": null,
   "id": "df1f27a6",
   "metadata": {},
   "outputs": [],
   "source": [
    "import warnings\n",
    "warnings.filterwarnings('ignore')\n"
   ]
  },
  {
   "cell_type": "markdown",
   "id": "f2d0d0b7",
   "metadata": {},
   "source": [
    "# video to image"
   ]
  },
  {
   "cell_type": "code",
   "execution_count": 1,
   "id": "d60095ee",
   "metadata": {},
   "outputs": [],
   "source": [
    "import cv2\n",
    "vidcap = cv2.VideoCapture('‪E:\\IMG_5781.mp4')\n",
    "\n",
    "\n",
    "def getFrame(sec):\n",
    "    vidcap.set(cv2.CAP_PROP_POS_MSEC, sec * 1000)\n",
    "    hasFrames, image = vidcap.read()\n",
    "    if hasFrames:\n",
    "        cv2.imwrite(\"frammee-0\" + str(count) + \".jpg\", image)  # save frame as JPG file\n",
    "    return hasFrames\n",
    "\n",
    "\n",
    "sec = 0\n",
    "frameRate = 1  # //it will capture image in each 0.5 second\n",
    "count = 0\n",
    "success = getFrame(sec)\n",
    "while success:\n",
    "    count = count + 1\n",
    "    sec = sec + frameRate\n",
    "    sec = round(sec, 2)\n",
    "    success = getFrame(sec)\n"
   ]
  },
  {
   "cell_type": "code",
   "execution_count": 27,
   "id": "b7605db7",
   "metadata": {},
   "outputs": [
    {
     "data": {
      "text/plain": [
       "(<Tile #1 - frame-060_01_01.png>,\n",
       " <Tile #2 - frame-060_01_02.png>,\n",
       " <Tile #3 - frame-060_01_03.png>,\n",
       " <Tile #4 - frame-060_01_04.png>,\n",
       " <Tile #5 - frame-060_01_05.png>,\n",
       " <Tile #6 - frame-060_01_06.png>,\n",
       " <Tile #7 - frame-060_01_07.png>,\n",
       " <Tile #8 - frame-060_01_08.png>,\n",
       " <Tile #9 - frame-060_01_09.png>,\n",
       " <Tile #10 - frame-060_01_10.png>,\n",
       " <Tile #11 - frame-060_01_11.png>,\n",
       " <Tile #12 - frame-060_01_12.png>,\n",
       " <Tile #13 - frame-060_02_01.png>,\n",
       " <Tile #14 - frame-060_02_02.png>,\n",
       " <Tile #15 - frame-060_02_03.png>,\n",
       " <Tile #16 - frame-060_02_04.png>,\n",
       " <Tile #17 - frame-060_02_05.png>,\n",
       " <Tile #18 - frame-060_02_06.png>,\n",
       " <Tile #19 - frame-060_02_07.png>,\n",
       " <Tile #20 - frame-060_02_08.png>,\n",
       " <Tile #21 - frame-060_02_09.png>,\n",
       " <Tile #22 - frame-060_02_10.png>,\n",
       " <Tile #23 - frame-060_02_11.png>,\n",
       " <Tile #24 - frame-060_02_12.png>,\n",
       " <Tile #25 - frame-060_03_01.png>,\n",
       " <Tile #26 - frame-060_03_02.png>,\n",
       " <Tile #27 - frame-060_03_03.png>,\n",
       " <Tile #28 - frame-060_03_04.png>,\n",
       " <Tile #29 - frame-060_03_05.png>,\n",
       " <Tile #30 - frame-060_03_06.png>,\n",
       " <Tile #31 - frame-060_03_07.png>,\n",
       " <Tile #32 - frame-060_03_08.png>,\n",
       " <Tile #33 - frame-060_03_09.png>,\n",
       " <Tile #34 - frame-060_03_10.png>,\n",
       " <Tile #35 - frame-060_03_11.png>,\n",
       " <Tile #36 - frame-060_03_12.png>,\n",
       " <Tile #37 - frame-060_04_01.png>,\n",
       " <Tile #38 - frame-060_04_02.png>,\n",
       " <Tile #39 - frame-060_04_03.png>,\n",
       " <Tile #40 - frame-060_04_04.png>,\n",
       " <Tile #41 - frame-060_04_05.png>,\n",
       " <Tile #42 - frame-060_04_06.png>,\n",
       " <Tile #43 - frame-060_04_07.png>,\n",
       " <Tile #44 - frame-060_04_08.png>,\n",
       " <Tile #45 - frame-060_04_09.png>,\n",
       " <Tile #46 - frame-060_04_10.png>,\n",
       " <Tile #47 - frame-060_04_11.png>,\n",
       " <Tile #48 - frame-060_04_12.png>,\n",
       " <Tile #49 - frame-060_05_01.png>,\n",
       " <Tile #50 - frame-060_05_02.png>,\n",
       " <Tile #51 - frame-060_05_03.png>,\n",
       " <Tile #52 - frame-060_05_04.png>,\n",
       " <Tile #53 - frame-060_05_05.png>,\n",
       " <Tile #54 - frame-060_05_06.png>,\n",
       " <Tile #55 - frame-060_05_07.png>,\n",
       " <Tile #56 - frame-060_05_08.png>,\n",
       " <Tile #57 - frame-060_05_09.png>,\n",
       " <Tile #58 - frame-060_05_10.png>,\n",
       " <Tile #59 - frame-060_05_11.png>,\n",
       " <Tile #60 - frame-060_05_12.png>,\n",
       " <Tile #61 - frame-060_06_01.png>,\n",
       " <Tile #62 - frame-060_06_02.png>,\n",
       " <Tile #63 - frame-060_06_03.png>,\n",
       " <Tile #64 - frame-060_06_04.png>,\n",
       " <Tile #65 - frame-060_06_05.png>,\n",
       " <Tile #66 - frame-060_06_06.png>,\n",
       " <Tile #67 - frame-060_06_07.png>,\n",
       " <Tile #68 - frame-060_06_08.png>,\n",
       " <Tile #69 - frame-060_06_09.png>,\n",
       " <Tile #70 - frame-060_06_10.png>,\n",
       " <Tile #71 - frame-060_06_11.png>,\n",
       " <Tile #72 - frame-060_06_12.png>,\n",
       " <Tile #73 - frame-060_07_01.png>,\n",
       " <Tile #74 - frame-060_07_02.png>,\n",
       " <Tile #75 - frame-060_07_03.png>,\n",
       " <Tile #76 - frame-060_07_04.png>,\n",
       " <Tile #77 - frame-060_07_05.png>,\n",
       " <Tile #78 - frame-060_07_06.png>,\n",
       " <Tile #79 - frame-060_07_07.png>,\n",
       " <Tile #80 - frame-060_07_08.png>,\n",
       " <Tile #81 - frame-060_07_09.png>,\n",
       " <Tile #82 - frame-060_07_10.png>,\n",
       " <Tile #83 - frame-060_07_11.png>,\n",
       " <Tile #84 - frame-060_07_12.png>,\n",
       " <Tile #85 - frame-060_08_01.png>,\n",
       " <Tile #86 - frame-060_08_02.png>,\n",
       " <Tile #87 - frame-060_08_03.png>,\n",
       " <Tile #88 - frame-060_08_04.png>,\n",
       " <Tile #89 - frame-060_08_05.png>,\n",
       " <Tile #90 - frame-060_08_06.png>,\n",
       " <Tile #91 - frame-060_08_07.png>,\n",
       " <Tile #92 - frame-060_08_08.png>,\n",
       " <Tile #93 - frame-060_08_09.png>,\n",
       " <Tile #94 - frame-060_08_10.png>,\n",
       " <Tile #95 - frame-060_08_11.png>,\n",
       " <Tile #96 - frame-060_08_12.png>,\n",
       " <Tile #97 - frame-060_09_01.png>,\n",
       " <Tile #98 - frame-060_09_02.png>,\n",
       " <Tile #99 - frame-060_09_03.png>,\n",
       " <Tile #100 - frame-060_09_04.png>,\n",
       " <Tile #101 - frame-060_09_05.png>,\n",
       " <Tile #102 - frame-060_09_06.png>,\n",
       " <Tile #103 - frame-060_09_07.png>,\n",
       " <Tile #104 - frame-060_09_08.png>,\n",
       " <Tile #105 - frame-060_09_09.png>,\n",
       " <Tile #106 - frame-060_09_10.png>,\n",
       " <Tile #107 - frame-060_09_11.png>,\n",
       " <Tile #108 - frame-060_09_12.png>,\n",
       " <Tile #109 - frame-060_10_01.png>,\n",
       " <Tile #110 - frame-060_10_02.png>,\n",
       " <Tile #111 - frame-060_10_03.png>,\n",
       " <Tile #112 - frame-060_10_04.png>,\n",
       " <Tile #113 - frame-060_10_05.png>,\n",
       " <Tile #114 - frame-060_10_06.png>,\n",
       " <Tile #115 - frame-060_10_07.png>,\n",
       " <Tile #116 - frame-060_10_08.png>,\n",
       " <Tile #117 - frame-060_10_09.png>,\n",
       " <Tile #118 - frame-060_10_10.png>,\n",
       " <Tile #119 - frame-060_10_11.png>,\n",
       " <Tile #120 - frame-060_10_12.png>,\n",
       " <Tile #121 - frame-060_11_01.png>,\n",
       " <Tile #122 - frame-060_11_02.png>,\n",
       " <Tile #123 - frame-060_11_03.png>,\n",
       " <Tile #124 - frame-060_11_04.png>,\n",
       " <Tile #125 - frame-060_11_05.png>,\n",
       " <Tile #126 - frame-060_11_06.png>,\n",
       " <Tile #127 - frame-060_11_07.png>,\n",
       " <Tile #128 - frame-060_11_08.png>,\n",
       " <Tile #129 - frame-060_11_09.png>,\n",
       " <Tile #130 - frame-060_11_10.png>,\n",
       " <Tile #131 - frame-060_11_11.png>,\n",
       " <Tile #132 - frame-060_11_12.png>)"
      ]
     },
     "execution_count": 27,
     "metadata": {},
     "output_type": "execute_result"
    }
   ],
   "source": [
    "import image_slicer\n",
    "\n",
    "image_slicer.slice('E:/Project/frame-060.png', 128)\n"
   ]
  },
  {
   "cell_type": "code",
   "execution_count": 23,
   "id": "97940b6f",
   "metadata": {},
   "outputs": [
    {
     "ename": "FileExistsError",
     "evalue": "[WinError 183] Cannot create a file when that file already exists: 'E:/Project/new/17.png' -> 'E:/Project/new/6.png'",
     "output_type": "error",
     "traceback": [
      "\u001b[1;31m---------------------------------------------------------------------------\u001b[0m",
      "\u001b[1;31mFileExistsError\u001b[0m                           Traceback (most recent call last)",
      "\u001b[1;32m<ipython-input-23-a35ed80cbe70>\u001b[0m in \u001b[0;36m<module>\u001b[1;34m\u001b[0m\n\u001b[0;32m      4\u001b[0m \u001b[0mi\u001b[0m \u001b[1;33m=\u001b[0m\u001b[1;36m14\u001b[0m\u001b[1;33m\u001b[0m\u001b[1;33m\u001b[0m\u001b[0m\n\u001b[0;32m      5\u001b[0m \u001b[1;32mfor\u001b[0m \u001b[0mi\u001b[0m\u001b[1;33m,\u001b[0m \u001b[0mfilename\u001b[0m \u001b[1;32min\u001b[0m \u001b[0menumerate\u001b[0m\u001b[1;33m(\u001b[0m\u001b[0mos\u001b[0m\u001b[1;33m.\u001b[0m\u001b[0mlistdir\u001b[0m\u001b[1;33m(\u001b[0m\u001b[0mcollection\u001b[0m\u001b[1;33m)\u001b[0m\u001b[1;33m)\u001b[0m\u001b[1;33m:\u001b[0m\u001b[1;33m\u001b[0m\u001b[1;33m\u001b[0m\u001b[0m\n\u001b[1;32m----> 6\u001b[1;33m     \u001b[0mos\u001b[0m\u001b[1;33m.\u001b[0m\u001b[0mrename\u001b[0m\u001b[1;33m(\u001b[0m\u001b[1;34m\"E:/Project/new/\"\u001b[0m \u001b[1;33m+\u001b[0m \u001b[0mfilename\u001b[0m\u001b[1;33m,\u001b[0m \u001b[1;34m\"E:/Project/new/\"\u001b[0m \u001b[1;33m+\u001b[0m \u001b[0mstr\u001b[0m\u001b[1;33m(\u001b[0m\u001b[0mi\u001b[0m\u001b[1;33m)\u001b[0m \u001b[1;33m+\u001b[0m \u001b[1;34m\".png\"\u001b[0m\u001b[1;33m)\u001b[0m\u001b[1;33m\u001b[0m\u001b[1;33m\u001b[0m\u001b[0m\n\u001b[0m",
      "\u001b[1;31mFileExistsError\u001b[0m: [WinError 183] Cannot create a file when that file already exists: 'E:/Project/new/17.png' -> 'E:/Project/new/6.png'"
     ]
    }
   ],
   "source": [
    "import os\n",
    "os.getcwd()\n",
    "collection = \"E:/Project/new/\"\n",
    "i = 1\n",
    "for i, filename in enumerate(os.listdir(collection)):\n",
    "    os.rename(\"E:/Project/new/\" + filename, \"E:/Project/new/\" + str(i) + \".png\")"
   ]
  },
  {
   "cell_type": "code",
   "execution_count": 25,
   "id": "0b798d1b",
   "metadata": {},
   "outputs": [],
   "source": [
    "\n",
    "import cv2\n",
    "import numpy as np\n",
    "import glob\n",
    " \n",
    "img_array = []\n",
    "for filename in glob.glob('E:/Project/new/*.png'):\n",
    "    img = cv2.imread(filename)\n",
    "    height, width, layers = img.shape\n",
    "    size = (width,height)\n",
    "    img_array.append(img)\n",
    " \n",
    " \n",
    "out = cv2.VideoWriter('project.mp4',cv2.VideoWriter_fourcc(*'DIVX'), 40, size)\n",
    " \n",
    "for i in range(len(img_array)):\n",
    "    out.write(img_array[i])\n",
    "out.release()"
   ]
  },
  {
   "cell_type": "code",
   "execution_count": 30,
   "id": "1b554b52",
   "metadata": {},
   "outputs": [],
   "source": [
    "import cv2\n",
    "import numpy as np\n",
    "import glob\n",
    "\n",
    "frameSize = (1200, 720)\n",
    "\n",
    "out = cv2.VideoWriter('D:/Downloads/adsdf/New folder/asdsa/New folder/output_video.mp4',cv2.VideoWriter_fourcc(*'DIVX'), 35, frameSize)\n",
    "\n",
    "for filename in glob.glob('D:/Downloads/adsdf/New folder/asdsa/New folder/*.png'):\n",
    "    img = cv2.imread(filename)\n",
    "    out.write(img)\n",
    "\n",
    "out.release()"
   ]
  },
  {
   "cell_type": "code",
   "execution_count": 8,
   "id": "46c5c26d",
   "metadata": {},
   "outputs": [
    {
     "ename": "FileExistsError",
     "evalue": "[WinError 183] Cannot create a file when that file already exists: 'E:/Project/Vehicles/KITTI_extracted/101.png' -> 'E:/Project/Vehicles/KITTI_extracted/2.png'",
     "output_type": "error",
     "traceback": [
      "\u001b[1;31m---------------------------------------------------------------------------\u001b[0m",
      "\u001b[1;31mFileExistsError\u001b[0m                           Traceback (most recent call last)",
      "\u001b[1;32m<ipython-input-8-33502af10e14>\u001b[0m in \u001b[0;36m<module>\u001b[1;34m\u001b[0m\n\u001b[0;32m      5\u001b[0m \u001b[1;33m\u001b[0m\u001b[0m\n\u001b[0;32m      6\u001b[0m \u001b[1;32mfor\u001b[0m \u001b[0mindex\u001b[0m\u001b[1;33m,\u001b[0m \u001b[0mfile\u001b[0m \u001b[1;32min\u001b[0m \u001b[0menumerate\u001b[0m\u001b[1;33m(\u001b[0m\u001b[0mfiles\u001b[0m\u001b[1;33m)\u001b[0m\u001b[1;33m:\u001b[0m\u001b[1;33m\u001b[0m\u001b[1;33m\u001b[0m\u001b[0m\n\u001b[1;32m----> 7\u001b[1;33m     \u001b[0mos\u001b[0m\u001b[1;33m.\u001b[0m\u001b[0mrename\u001b[0m\u001b[1;33m(\u001b[0m\u001b[0mos\u001b[0m\u001b[1;33m.\u001b[0m\u001b[0mpath\u001b[0m\u001b[1;33m.\u001b[0m\u001b[0mjoin\u001b[0m\u001b[1;33m(\u001b[0m\u001b[0mpath\u001b[0m\u001b[1;33m,\u001b[0m \u001b[0mfile\u001b[0m\u001b[1;33m)\u001b[0m\u001b[1;33m,\u001b[0m \u001b[0mos\u001b[0m\u001b[1;33m.\u001b[0m\u001b[0mpath\u001b[0m\u001b[1;33m.\u001b[0m\u001b[0mjoin\u001b[0m\u001b[1;33m(\u001b[0m\u001b[0mpath\u001b[0m\u001b[1;33m,\u001b[0m \u001b[1;34m''\u001b[0m\u001b[1;33m.\u001b[0m\u001b[0mjoin\u001b[0m\u001b[1;33m(\u001b[0m\u001b[1;33m[\u001b[0m\u001b[0mstr\u001b[0m\u001b[1;33m(\u001b[0m\u001b[0mindex\u001b[0m\u001b[1;33m)\u001b[0m\u001b[1;33m,\u001b[0m \u001b[1;34m'.png'\u001b[0m\u001b[1;33m]\u001b[0m\u001b[1;33m)\u001b[0m\u001b[1;33m)\u001b[0m\u001b[1;33m)\u001b[0m\u001b[1;33m\u001b[0m\u001b[1;33m\u001b[0m\u001b[0m\n\u001b[0m",
      "\u001b[1;31mFileExistsError\u001b[0m: [WinError 183] Cannot create a file when that file already exists: 'E:/Project/Vehicles/KITTI_extracted/101.png' -> 'E:/Project/Vehicles/KITTI_extracted/2.png'"
     ]
    }
   ],
   "source": [
    "import os\n",
    "path = 'E:/Project/Vehicles/KITTI_extracted/'\n",
    "files = os.listdir(path)\n",
    "\n",
    "\n",
    "for index, file in enumerate(files):\n",
    "    os.rename(os.path.join(path, file), os.path.join(path, ''.join([str(index), '.png'])))"
   ]
  },
  {
   "cell_type": "code",
   "execution_count": 1,
   "id": "f2d35021",
   "metadata": {},
   "outputs": [
    {
     "data": {
      "image/png": "[encoded data removed]",
      "text/plain": [
       "<Figure size 432x288 with 1 Axes>"
      ]
     },
     "metadata": {},
     "output_type": "display_data"
    }
   ],
   "source": [
    "import matplotlib.pyplot as plt\n",
    "\n",
    "# Data to plot\n",
    "labels = 'Non-Vehicle', 'Car', 'Rickshaw', 'CNG' , 'Leguna'\n",
    "sizes = [415, 270, 220, 230, 200]\n",
    "colors = ['gold', 'yellowgreen', 'lightcoral', 'lightskyblue','teal']\n",
    "explode = (0.1, 0, 0, 0, 0)  # explode 1st slice\n",
    "\n",
    "# Plot\n",
    "plt.pie(sizes, explode=explode, labels=labels, colors=colors,\n",
    "autopct='%1.1f%%', shadow=True, startangle=140)\n",
    "\n",
    "plt.axis('equal')\n",
    "plt.show()"
   ]
  },
  {
   "cell_type": "code",
   "execution_count": 3,
   "id": "54da2c6c",
   "metadata": {},
   "outputs": [
    {
     "data": {
      "image/png": "[encoded data removed]",
      "text/plain": [
       "<Figure size 432x288 with 1 Axes>"
      ]
     },
     "metadata": {
      "needs_background": "light"
     },
     "output_type": "display_data"
    }
   ],
   "source": [
    "import matplotlib.pyplot as plt\n",
    "   \n",
    "Country = ['Non-Vehicle','Car','Rickshaw','CNG','Leguna']\n",
    "GDP_Per_Capita = [7500,4000,3000,3200,2500]\n",
    "\n",
    "New_Colors = ['gold', 'yellowgreen', 'lightcoral', 'lightskyblue','teal']\n",
    "plt.bar(Country, GDP_Per_Capita, color=New_Colors)\n",
    "plt.title('Vehicle Vs Non-Vehicle ', fontsize=14)\n",
    "plt.xlabel('Elements', fontsize=14)\n",
    "plt.ylabel('Count', fontsize=14)\n",
    "plt.grid(True)\n",
    "plt.show()"
   ]
  },
  {
   "cell_type": "code",
   "execution_count": null,
   "id": "9f66a33f",
   "metadata": {},
   "outputs": [],
   "source": [
    "import pandas as pd\n",
    "from matplotlib import pyplot as plt\n",
    " \n",
    "# Read CSV into pandas\n",
    "data = pd.read_csv(r\"cars.csv\")\n",
    "data.head()\n",
    "df = pd.DataFrame(data)\n",
    " \n",
    "name = df['car'].head(12)\n",
    "price = df['price'].head(12)\n",
    " \n",
    "# Figure Size\n",
    "fig, ax = plt.subplots(figsize =(16, 9))\n",
    " \n",
    "# Horizontal Bar Plot\n",
    "ax.barh(name, price)\n",
    " \n",
    "# Remove axes splines\n",
    "for s in ['top', 'bottom', 'left', 'right']:\n",
    "    ax.spines[s].set_visible(False)\n",
    " \n",
    "# Remove x, y Ticks\n",
    "ax.xaxis.set_ticks_position('none')\n",
    "ax.yaxis.set_ticks_position("
   ]
  }
 ],
 "metadata": {
  "kernelspec": {
   "display_name": "Python 3",
   "language": "python",
   "name": "python3"
  },
  "language_info": {
   "codemirror_mode": {
    "name": "ipython",
    "version": 3
   },
   "file_extension": ".py",
   "mimetype": "text/x-python",
   "name": "python",
   "nbconvert_exporter": "python",
   "pygments_lexer": "ipython3",
   "version": "3.8.8"
  }
 },
 "nbformat": 4,
 "nbformat_minor": 5
}
